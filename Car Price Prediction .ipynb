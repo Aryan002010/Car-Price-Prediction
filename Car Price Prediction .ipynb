{
 "cells": [
  {
   "cell_type": "code",
   "execution_count": null,
   "id": "66122ff2",
   "metadata": {},
   "outputs": [],
   "source": [
    "import numpy as np\n",
    "import pandas as pd\n",
    "import seaborn as sns\n",
    "import matplotlib.pyplot as plt\n",
    "from sklearn.model_selection import train_test_split\n",
    "from sklearn import metrics"
   ]
  },
  {
   "cell_type": "code",
   "execution_count": null,
   "id": "a463b96d",
   "metadata": {},
   "outputs": [],
   "source": [
    "car = pd.read_csv('car data.csv')\n",
    "car.head()"
   ]
  },
  {
   "cell_type": "code",
   "execution_count": null,
   "id": "8892dc32",
   "metadata": {},
   "outputs": [],
   "source": [
    "car.shape"
   ]
  },
  {
   "cell_type": "code",
   "execution_count": null,
   "id": "5562da6e",
   "metadata": {},
   "outputs": [],
   "source": [
    "car.describe()"
   ]
  },
  {
   "cell_type": "code",
   "execution_count": null,
   "id": "b984ce7f",
   "metadata": {},
   "outputs": [],
   "source": [
    "car.isnull().sum()"
   ]
  },
  {
   "cell_type": "code",
   "execution_count": null,
   "id": "980c3b4c",
   "metadata": {},
   "outputs": [],
   "source": [
    "car['Fuel_Type'].value_counts()"
   ]
  },
  {
   "cell_type": "code",
   "execution_count": null,
   "id": "97205f05",
   "metadata": {},
   "outputs": [],
   "source": [
    "car['Seller_Type'].value_counts()"
   ]
  },
  {
   "cell_type": "code",
   "execution_count": null,
   "id": "12622485",
   "metadata": {},
   "outputs": [],
   "source": [
    "car['Transmission'].value_counts()"
   ]
  },
  {
   "cell_type": "code",
   "execution_count": null,
   "id": "2c768c19",
   "metadata": {},
   "outputs": [],
   "source": []
  },
  {
   "cell_type": "code",
   "execution_count": null,
   "id": "d2f3c9b4",
   "metadata": {},
   "outputs": [],
   "source": [
    "# encoding the categorical data"
   ]
  },
  {
   "cell_type": "code",
   "execution_count": null,
   "id": "2bdf0f2f",
   "metadata": {},
   "outputs": [],
   "source": [
    "# encoding fuel_type column\n",
    "car.replace({'Fuel_Type': {'Petrol':0, 'Diesel':1, 'CNG':2}}, inplace=True)"
   ]
  },
  {
   "cell_type": "code",
   "execution_count": null,
   "id": "f72a57a3",
   "metadata": {},
   "outputs": [],
   "source": [
    "# encoding Seller_Type column\n",
    "car.replace({'Seller_Type': {'Dealer':0, 'Individual':1}}, inplace=True)"
   ]
  },
  {
   "cell_type": "code",
   "execution_count": null,
   "id": "3f3abf6d",
   "metadata": {},
   "outputs": [],
   "source": [
    "# encoding Transmission column\n",
    "car.replace({'Transmission': {'Manual':0, 'Automatic':1}}, inplace=True)"
   ]
  },
  {
   "cell_type": "code",
   "execution_count": null,
   "id": "5cff809d",
   "metadata": {},
   "outputs": [],
   "source": [
    "car.head()"
   ]
  },
  {
   "cell_type": "code",
   "execution_count": null,
   "id": "41dfa294",
   "metadata": {},
   "outputs": [],
   "source": [
    "# since our project is of car price prediction so 'Selling_Price'\n",
    "# becomes our target "
   ]
  },
  {
   "cell_type": "code",
   "execution_count": null,
   "id": "76e5ea30",
   "metadata": {},
   "outputs": [],
   "source": [
    "X = car.drop(columns = ['Selling_Price', 'Car_Name'], axis=1)\n",
    "Y = car['Selling_Price']"
   ]
  },
  {
   "cell_type": "code",
   "execution_count": null,
   "id": "9583f260",
   "metadata": {},
   "outputs": [],
   "source": [
    "print(X)\n",
    "print(Y)"
   ]
  },
  {
   "cell_type": "code",
   "execution_count": null,
   "id": "0ea7205a",
   "metadata": {},
   "outputs": [],
   "source": [
    "# splitting training and test data "
   ]
  },
  {
   "cell_type": "code",
   "execution_count": null,
   "id": "de5a1dd6",
   "metadata": {},
   "outputs": [],
   "source": [
    "X_train, X_test, Y_train, Y_test = train_test_split(X, Y, test_size = 0.1, random_state = 2)"
   ]
  },
  {
   "cell_type": "code",
   "execution_count": null,
   "id": "566616a1",
   "metadata": {},
   "outputs": [],
   "source": []
  },
  {
   "cell_type": "code",
   "execution_count": null,
   "id": "9f0373d2",
   "metadata": {},
   "outputs": [],
   "source": [
    "# model training"
   ]
  },
  {
   "cell_type": "code",
   "execution_count": null,
   "id": "05ef41db",
   "metadata": {},
   "outputs": [],
   "source": [
    "# Linear Regression"
   ]
  },
  {
   "cell_type": "code",
   "execution_count": null,
   "id": "06aca227",
   "metadata": {},
   "outputs": [],
   "source": [
    "from sklearn.linear_model import LinearRegression"
   ]
  },
  {
   "cell_type": "code",
   "execution_count": null,
   "id": "beb22229",
   "metadata": {},
   "outputs": [],
   "source": [
    "model = LinearRegression()"
   ]
  },
  {
   "cell_type": "code",
   "execution_count": null,
   "id": "32b19cc7",
   "metadata": {},
   "outputs": [],
   "source": [
    "model.fit(X_train, Y_train)"
   ]
  },
  {
   "cell_type": "code",
   "execution_count": null,
   "id": "819f2ad7",
   "metadata": {},
   "outputs": [],
   "source": [
    "print('Accuracy: ', model.score(X_test, Y_test)*100)"
   ]
  },
  {
   "cell_type": "code",
   "execution_count": null,
   "id": "5d30dea9",
   "metadata": {},
   "outputs": [],
   "source": []
  },
  {
   "cell_type": "code",
   "execution_count": null,
   "id": "dba00673",
   "metadata": {},
   "outputs": [],
   "source": []
  },
  {
   "cell_type": "code",
   "execution_count": null,
   "id": "952ee53a",
   "metadata": {},
   "outputs": [],
   "source": [
    "# prediction on training data"
   ]
  },
  {
   "cell_type": "code",
   "execution_count": null,
   "id": "dc648c01",
   "metadata": {},
   "outputs": [],
   "source": [
    "training_data_prediction = model.predict(X_train)"
   ]
  },
  {
   "cell_type": "code",
   "execution_count": null,
   "id": "6a9f6427",
   "metadata": {},
   "outputs": [],
   "source": [
    "# R squared error"
   ]
  },
  {
   "cell_type": "code",
   "execution_count": null,
   "id": "634070ef",
   "metadata": {},
   "outputs": [],
   "source": [
    "error_score = metrics.r2_score(Y_train, training_data_prediction)\n",
    "print('R squared error: ', error_score)"
   ]
  },
  {
   "cell_type": "code",
   "execution_count": null,
   "id": "c46f39a1",
   "metadata": {},
   "outputs": [],
   "source": []
  },
  {
   "cell_type": "code",
   "execution_count": null,
   "id": "073ef1d8",
   "metadata": {},
   "outputs": [],
   "source": [
    "# Visualize the actual price and Predicted Price"
   ]
  },
  {
   "cell_type": "code",
   "execution_count": null,
   "id": "d1bdcaba",
   "metadata": {},
   "outputs": [],
   "source": [
    "plt.scatter(Y_train, training_data_prediction)\n",
    "plt.xlabel('Actual Prices')\n",
    "plt.ylabel('Predicted Prices')\n",
    "plt.title('Actual Prices vs Predicted Prices')\n",
    "plt.show()"
   ]
  },
  {
   "cell_type": "code",
   "execution_count": null,
   "id": "e62573ac",
   "metadata": {},
   "outputs": [],
   "source": []
  },
  {
   "cell_type": "code",
   "execution_count": null,
   "id": "3ece887d",
   "metadata": {},
   "outputs": [],
   "source": [
    "# prediction on test data"
   ]
  },
  {
   "cell_type": "code",
   "execution_count": null,
   "id": "06dd73ea",
   "metadata": {},
   "outputs": [],
   "source": [
    "testing_data_prediction = model.predict(X_test)"
   ]
  },
  {
   "cell_type": "code",
   "execution_count": null,
   "id": "93cddc3d",
   "metadata": {},
   "outputs": [],
   "source": [
    "error_score = metrics.r2_score(Y_test, testing_data_prediction)\n",
    "print('R squared error: ', error_score)"
   ]
  },
  {
   "cell_type": "code",
   "execution_count": null,
   "id": "23526924",
   "metadata": {},
   "outputs": [],
   "source": [
    "plt.scatter(Y_test, testing_data_prediction)\n",
    "plt.xlabel('Actual Prices')\n",
    "plt.ylabel('Predicted Prices')\n",
    "plt.title('Actual Prices vs Predicted Prices')\n",
    "plt.show()"
   ]
  },
  {
   "cell_type": "code",
   "execution_count": null,
   "id": "87a13639",
   "metadata": {},
   "outputs": [],
   "source": []
  },
  {
   "cell_type": "code",
   "execution_count": null,
   "id": "d74d2ae2",
   "metadata": {},
   "outputs": [],
   "source": [
    "# Lasso regression"
   ]
  },
  {
   "cell_type": "code",
   "execution_count": null,
   "id": "877c1c26",
   "metadata": {},
   "outputs": [],
   "source": [
    "from sklearn.linear_model import Lasso"
   ]
  },
  {
   "cell_type": "code",
   "execution_count": null,
   "id": "44f78f8b",
   "metadata": {},
   "outputs": [],
   "source": [
    "lasso_model = Lasso()"
   ]
  },
  {
   "cell_type": "code",
   "execution_count": null,
   "id": "6e1fd640",
   "metadata": {},
   "outputs": [],
   "source": [
    "lasso_model.fit(X_train, Y_train)"
   ]
  },
  {
   "cell_type": "code",
   "execution_count": null,
   "id": "1d2de65d",
   "metadata": {},
   "outputs": [],
   "source": [
    "print('Accuracy: ', model.score(X_test, Y_test)*100)"
   ]
  },
  {
   "cell_type": "code",
   "execution_count": null,
   "id": "64a7f476",
   "metadata": {},
   "outputs": [],
   "source": []
  },
  {
   "cell_type": "code",
   "execution_count": null,
   "id": "a299855e",
   "metadata": {},
   "outputs": [],
   "source": [
    "# For training data"
   ]
  },
  {
   "cell_type": "code",
   "execution_count": null,
   "id": "63555f39",
   "metadata": {},
   "outputs": [],
   "source": [
    "training_data_prediction = model.predict(X_train)"
   ]
  },
  {
   "cell_type": "code",
   "execution_count": null,
   "id": "d3298d04",
   "metadata": {},
   "outputs": [],
   "source": [
    "error_score = metrics.r2_score(Y_train, training_data_prediction)\n",
    "print('R squared error: ', error_score)"
   ]
  },
  {
   "cell_type": "code",
   "execution_count": null,
   "id": "b1467d98",
   "metadata": {},
   "outputs": [],
   "source": [
    "plt.scatter(Y_train, training_data_prediction)\n",
    "plt.xlabel('Actual Prices')\n",
    "plt.ylabel('Predicted Prices')\n",
    "plt.title('Actual Prices vs Predicted Prices')\n",
    "plt.show()"
   ]
  },
  {
   "cell_type": "code",
   "execution_count": null,
   "id": "12e24eaf",
   "metadata": {},
   "outputs": [],
   "source": []
  },
  {
   "cell_type": "code",
   "execution_count": null,
   "id": "172a1b68",
   "metadata": {},
   "outputs": [],
   "source": [
    "# for testing data"
   ]
  },
  {
   "cell_type": "code",
   "execution_count": null,
   "id": "bc590915",
   "metadata": {},
   "outputs": [],
   "source": [
    "testing_data_prediction = lasso_model.predict(X_test)"
   ]
  },
  {
   "cell_type": "code",
   "execution_count": null,
   "id": "b99d0193",
   "metadata": {},
   "outputs": [],
   "source": [
    "error_score = metrics.r2_score(Y_test, testing_data_prediction)\n",
    "print('R squared error: ', error_score)"
   ]
  },
  {
   "cell_type": "code",
   "execution_count": null,
   "id": "a4062811",
   "metadata": {},
   "outputs": [],
   "source": [
    "plt.scatter(Y_test, testing_data_prediction)\n",
    "plt.xlabel('Actual Prices')\n",
    "plt.ylabel('Predicted Prices')\n",
    "plt.title('Actual Prices vs Predicted Prices')\n",
    "plt.show()"
   ]
  },
  {
   "cell_type": "code",
   "execution_count": null,
   "id": "63fd8670",
   "metadata": {},
   "outputs": [],
   "source": []
  }
 ],
 "metadata": {
  "kernelspec": {
   "display_name": "Python 3 (ipykernel)",
   "language": "python",
   "name": "python3"
  },
  "language_info": {
   "codemirror_mode": {
    "name": "ipython",
    "version": 3
   },
   "file_extension": ".py",
   "mimetype": "text/x-python",
   "name": "python",
   "nbconvert_exporter": "python",
   "pygments_lexer": "ipython3",
   "version": "3.9.13"
  }
 },
 "nbformat": 4,
 "nbformat_minor": 5
}
